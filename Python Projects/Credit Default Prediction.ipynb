{
 "cells": [
  {
   "cell_type": "markdown",
   "metadata": {},
   "source": [
    "## Credit Default Prediction Using Supervised Machine Learning Algorithms\n",
    " \n",
    "---"
   ]
  },
  {
   "cell_type": "markdown",
   "metadata": {},
   "source": [
    "### Project Overview\n",
    "\n",
    "Credit scorecards are a pivotal tool within the financial sector, serving as a mechanism for managing risk. They leverage the personal data provided by credit card applicants to forecast the likelihood of future payment defaults. Based on this predictive analysis, banks make informed decisions on whether to grant or deny a credit card application.\n",
    "\n",
    "### Project Objective\n",
    "The primary objective of this project is to develop a machine learning model that predicts credit card payment defaults accurately. By leveraging various supervised machine learning algorithms, we aim to assist financial institutions in assessing the creditworthiness of applicants more effectively.\n",
    "\n",
    "**Dataset Features Description**\n",
    "\n",
    "The table below details each attribute of the dataset used in evaluating credit card applications:\n",
    "\n",
    "| Feature Name         | Explanation                       | Additional Remarks                                   |\n",
    "|----------------------|-----------------------------------|------------------------------------------------------|\n",
    "| ID                   | Unique Identifier for each client |                                                      |\n",
    "| Income               | Annual income of the application  |                                                      |\n",
    "| Gender               | Applicant's Gender                | Male = 0, Female = 1                                 |\n",
    "| Car                  | Car Ownership                     | Yes = 1, No = 0                                      |\n",
    "| Children             | Number of Children                |                                                      |\n",
    "| Real Estate          | Real Estate Ownership             | Yes = 1, No = 0                                      |\n",
    "| Days Since Birth     | Number of Days                    | Count backwards from current day (0), -1 means yesterday |\n",
    "| Days Employed        | Number of Days                    | Count backwards from current day(0). If positive, it means the person is currently unemployed. |\n",
    "| Payment Default      | Overdue credit card payments      | Yes = 1, No = 0                                      |\n"
   ]
  },
  {
   "cell_type": "markdown",
   "metadata": {},
   "source": [
    "---"
   ]
  },
  {
   "cell_type": "markdown",
   "metadata": {},
   "source": [
    "\n",
    "### 1. Data Cleaning and Anomoly Correction\n"
   ]
  },
  {
   "cell_type": "markdown",
   "metadata": {},
   "source": [
    "**Importing Necessary Libraries**"
   ]
  },
  {
   "cell_type": "code",
   "execution_count": 19,
   "metadata": {},
   "outputs": [],
   "source": [
    "# Necessary Libraries\n",
    "import pandas as pd\n",
    "import numpy as np\n",
    "import matplotlib.pyplot as plt\n",
    "import seaborn as sns\n",
    "import numpy as np\n",
    "\n",
    "# Scikit-Learn for Machine Learning\n",
    "from sklearn.model_selection import train_test_split\n",
    "from sklearn.model_selection import GridSearchCV\n",
    "from sklearn.ensemble import RandomForestClassifier\n",
    "from sklearn.linear_model import Perceptron, LogisticRegression\n",
    "from sklearn.tree import DecisionTreeClassifier\n",
    "from sklearn.svm import SVC\n",
    "from sklearn.model_selection import cross_val_score\n",
    "from sklearn.preprocessing import StandardScaler\n",
    "\n",
    "# Ignore DeprecationWarning\n",
    "import warnings\n",
    "warnings.filterwarnings(\"ignore\", category=DeprecationWarning)"
   ]
  },
  {
   "cell_type": "markdown",
   "metadata": {},
   "source": [
    "**Loading the Dataset**"
   ]
  },
  {
   "cell_type": "code",
   "execution_count": 20,
   "metadata": {},
   "outputs": [],
   "source": [
    "# Load data from an Excel file into a DataFrame\n",
    "credit_risk_df = pd.read_excel('/Users/rashrav/Documents/GitHub/Data Analytics Portfolio Projects/Python Projects/data/credit_risk_profile.xlsx')"
   ]
  },
  {
   "cell_type": "markdown",
   "metadata": {},
   "source": [
    "**Removing Duplicate Entries**"
   ]
  },
  {
   "cell_type": "code",
   "execution_count": 21,
   "metadata": {},
   "outputs": [],
   "source": [
    "# Remove duplicate entries based on the 'ID' column\n",
    "credit_risk_df.drop_duplicates(subset='ID', inplace=True)"
   ]
  },
  {
   "cell_type": "markdown",
   "metadata": {},
   "source": [
    "**Dropping Unnecessary Columns**"
   ]
  },
  {
   "cell_type": "code",
   "execution_count": 22,
   "metadata": {},
   "outputs": [],
   "source": [
    "# Drop the 'ID' column as it's no longer needed after removing duplicates\n",
    "credit_risk_df.drop('ID', axis=1, inplace=True)"
   ]
  },
  {
   "cell_type": "markdown",
   "metadata": {},
   "source": [
    "**Resetting DataFrame Index**"
   ]
  },
  {
   "cell_type": "code",
   "execution_count": 23,
   "metadata": {},
   "outputs": [],
   "source": [
    "# Reset the DataFrame index to maintain consistency after row deletions\n",
    "credit_risk_df.reset_index(drop=True, inplace=True)"
   ]
  },
  {
   "cell_type": "markdown",
   "metadata": {},
   "source": [
    "**Handling 'Days Employed'**"
   ]
  },
  {
   "cell_type": "code",
   "execution_count": 24,
   "metadata": {},
   "outputs": [],
   "source": [
    "# Set 'Days Employed' to 0 for rows with positive values\n",
    "# This is under the assumption that positive values are incorrect and should be treated as 0 (indicating current unemployment)\n",
    "credit_risk_df.loc[credit_risk_df['Days Employed'] > 0, 'Days Employed'] = 0"
   ]
  },
  {
   "cell_type": "markdown",
   "metadata": {},
   "source": [
    "### 2. Feature Transformation and DataFrame Reorganization"
   ]
  },
  {
   "cell_type": "markdown",
   "metadata": {},
   "source": [
    "**Creating Variables for Age and Years in Employment field and applying transformation**"
   ]
  },
  {
   "cell_type": "code",
   "execution_count": 25,
   "metadata": {},
   "outputs": [],
   "source": [
    "# Applying transformations\n",
    "Age = abs(credit_risk_df['Days Since Birth'] / 365) \n",
    "Years_in_Employment = abs(credit_risk_df['Days Employed'] / 365) \n",
    "\n",
    "#Adding in the two variables\n",
    "credit_risk_df['Age']=Age\n",
    "credit_risk_df['Years in Employment']=Years_in_Employment\n"
   ]
  },
  {
   "cell_type": "markdown",
   "metadata": {},
   "source": [
    "**Dropping Unnecessary Columns**"
   ]
  },
  {
   "cell_type": "code",
   "execution_count": 26,
   "metadata": {},
   "outputs": [],
   "source": [
    "#Dropping the columns`\n",
    "credit_risk_df = credit_risk_df.drop(['Days Since Birth', 'Days Employed'], axis=1)"
   ]
  },
  {
   "cell_type": "markdown",
   "metadata": {},
   "source": [
    "**Reorganizing DataFrame Columns**"
   ]
  },
  {
   "cell_type": "code",
   "execution_count": 27,
   "metadata": {},
   "outputs": [],
   "source": [
    "\n",
    "# Reindexing to make payment default the last column\n",
    "credit_risk_df = credit_risk_df.reindex(columns=['Gender', 'Car', 'Real Estate', 'Children', \n",
    "                         'Income', 'Age', 'Years in Employment', 'Payment Default'])"
   ]
  },
  {
   "cell_type": "markdown",
   "metadata": {},
   "source": [
    "### 3. Preparing and Splitting the Dataset for Modeling"
   ]
  },
  {
   "cell_type": "markdown",
   "metadata": {},
   "source": [
    "**Flattening to 1D Array**"
   ]
  },
  {
   "cell_type": "code",
   "execution_count": 28,
   "metadata": {},
   "outputs": [],
   "source": [
    "# Flatten the target variable 'Payment Default' to a 1D array for the first 5,000 observations\n",
    "y = np.ravel(credit_risk_df['Payment Default'].iloc[:5000])\n",
    "\n",
    "# Export the first 5,000 observations of selected columns as the feature matrix\n",
    "X = credit_risk_df[['Gender', 'Car', 'Real Estate', 'Children', 'Income', 'Age', 'Years in Employment']].iloc[:5000].to_numpy()"
   ]
  },
  {
   "cell_type": "markdown",
   "metadata": {},
   "source": [
    "**Splitting the Dataset into Train and Test sets**"
   ]
  },
  {
   "cell_type": "code",
   "execution_count": 29,
   "metadata": {},
   "outputs": [],
   "source": [
    "# Splitting the data into training and testing sets with a 70:30 ratio\n",
    "X_train, X_test, y_train, y_test = train_test_split(X, y, test_size=0.3, random_state=0, stratify=y)"
   ]
  },
  {
   "cell_type": "markdown",
   "metadata": {},
   "source": [
    "**Standardization of Features**"
   ]
  },
  {
   "cell_type": "code",
   "execution_count": 30,
   "metadata": {},
   "outputs": [],
   "source": [
    "\n",
    "from sklearn.preprocessing import StandardScaler\n",
    "# Initialize the StandardScaler\n",
    "sc = StandardScaler()\n",
    "\n",
    "# Fit the scaler to the training data\n",
    "sc.fit(X_train)\n",
    "\n",
    "# Transform the training data\n",
    "X_train_scaled = sc.transform(X_train)\n",
    "\n",
    "# Transform the test data using the same scaler\n",
    "X_test_scaled = sc.transform(X_test)\n"
   ]
  },
  {
   "cell_type": "markdown",
   "metadata": {},
   "source": [
    "### 4. Model Training and Evaluation"
   ]
  },
  {
   "cell_type": "markdown",
   "metadata": {},
   "source": [
    "**Initializing Instances for the Classifiers**"
   ]
  },
  {
   "cell_type": "code",
   "execution_count": 31,
   "metadata": {},
   "outputs": [],
   "source": [
    "# Initializing instances for the classifiers\n",
    "pc = Perceptron(random_state=1)\n",
    "lr = LogisticRegression(random_state=1)\n",
    "dt = DecisionTreeClassifier(random_state=1)\n",
    "rf = RandomForestClassifier(random_state=1)\n",
    "svc = SVC(random_state=1)\n",
    "\n",
    "# Storing the classifiers in a list for easy iteration\n",
    "models = [pc, lr, dt, rf, svc]\n",
    "model_names = [\"Perceptron\", \"Logistic Regression\", \"Decision Tree\", \"Random Forest\", \"Support Vector Machine\"]"
   ]
  },
  {
   "cell_type": "markdown",
   "metadata": {},
   "source": [
    "**Function for Cross-Validation Evaluation**"
   ]
  },
  {
   "cell_type": "code",
   "execution_count": 32,
   "metadata": {},
   "outputs": [],
   "source": [
    "\n",
    "# Function to perform cross-validation and return average accuracy\n",
    "def evaluate_model_with_cv(model, X, y, cv=5):\n",
    "    scores = cross_val_score(model, X, y, cv=cv)\n",
    "    return scores.mean()"
   ]
  },
  {
   "cell_type": "markdown",
   "metadata": {},
   "source": [
    "**Evaluating Each Model Using Cross-Validation**"
   ]
  },
  {
   "cell_type": "code",
   "execution_count": 33,
   "metadata": {},
   "outputs": [
    {
     "name": "stdout",
     "output_type": "stream",
     "text": [
      "Perceptron CV accuracy: 0.51\n",
      "Logistic Regression CV accuracy: 0.55\n",
      "Decision Tree CV accuracy: 0.58\n",
      "Random Forest CV accuracy: 0.59\n",
      "Support Vector Machine CV accuracy: 0.54\n"
     ]
    }
   ],
   "source": [
    "# Evaluating each model using cross-validation\n",
    "for model, name in zip(models, model_names):\n",
    "    cv_accuracy = evaluate_model_with_cv(model, X_train_scaled, y_train)\n",
    "    print(f\"{name} CV accuracy: {cv_accuracy:.2f}\")\n"
   ]
  },
  {
   "cell_type": "markdown",
   "metadata": {},
   "source": [
    "**Plotting Cross-Validation Accuracies**"
   ]
  },
  {
   "cell_type": "code",
   "execution_count": 34,
   "metadata": {},
   "outputs": [
    {
     "name": "stderr",
     "output_type": "stream",
     "text": [
      "/var/folders/y_/7s9v977x6f17cyp2qq0j7gt00000gn/T/ipykernel_1751/3296282093.py:11: FutureWarning: \n",
      "\n",
      "Passing `palette` without assigning `hue` is deprecated and will be removed in v0.14.0. Assign the `x` variable to `hue` and set `legend=False` for the same effect.\n",
      "\n",
      "  sns.barplot(x=model_names, y=cv_accuracies, palette=\"viridis\")\n"
     ]
    },
    {
     "data": {
      "image/png": "[encoded data removed]",
      "text/plain": [
       "<Figure size 1000x600 with 1 Axes>"
      ]
     },
     "metadata": {},
     "output_type": "display_data"
    }
   ],
   "source": [
    "cv_accuracies = []\n",
    "model_names = [\"Perceptron\", \"Logistic Regression\", \"Decision Tree\", \"Random Forest\", \"Support Vector Machine\"]\n",
    "\n",
    "# Calculating CV accuracies for each model\n",
    "for model in models:\n",
    "    cv_accuracy = evaluate_model_with_cv(model, X_train_scaled, y_train, cv=5)\n",
    "    cv_accuracies.append(cv_accuracy)\n",
    "\n",
    "# Creating a bar chart\n",
    "plt.figure(figsize=(10, 6))\n",
    "sns.barplot(x=model_names, y=cv_accuracies, palette=\"viridis\")\n",
    "\n",
    "# Adding title and labels\n",
    "plt.title('Cross-Validation Accuracies of Different Models', fontsize=15)\n",
    "plt.xlabel('Model', fontsize=12)\n",
    "plt.ylabel('CV Accuracy', fontsize=12)\n",
    "plt.xticks(rotation=45)  # Rotates the model names for better readability\n",
    "\n",
    "# Show the plot\n",
    "plt.show()"
   ]
  },
  {
   "cell_type": "markdown",
   "metadata": {},
   "source": [
    "### Model Cross-Validation Accuracies\n",
    "\n",
    "Here are the cross-validation accuracies for the different models:\n",
    "\n",
    "- Perceptron CV accuracy: 0.51\n",
    "- Logistic Regression CV accuracy: 0.55\n",
    "- Decision Tree CV accuracy: 0.58\n",
    "- Random Forest CV accuracy: 0.59\n",
    "- Support Vector Machine CV accuracy: 0.54\n",
    "\n",
    "It's evident that the Random Forest model achieved the highest cross-validation accuracy (0.59) among all the models we evaluated.\n",
    "\n",
    "### Next Steps\n",
    "\n",
    "Given that the Random Forest model demonstrated the highest cross-validation accuracy, we will proceed by performing hyperparameter testing and tuning for the Random Forest classifier. Hyperparameter tuning can further enhance the model's performance and generalization. We'll explore different hyperparameter settings to find the optimal configuration for our Random Forest model.\n",
    "\n"
   ]
  },
  {
   "cell_type": "markdown",
   "metadata": {},
   "source": [
    "### 5. Model Tuning and Refinement"
   ]
  },
  {
   "cell_type": "markdown",
   "metadata": {},
   "source": [
    "**Define the Parameter Grid for Random Forest**"
   ]
  },
  {
   "cell_type": "code",
   "execution_count": null,
   "metadata": {},
   "outputs": [],
   "source": [
    "# Define the parameter grid\n",
    "param_grid = {\n",
    "    'n_estimators': [100, 200, 300],\n",
    "    'max_features': ['auto', 'sqrt', 'log2'],\n",
    "    'max_depth': [4, 6, 8],\n",
    "    'min_samples_split': [2, 5, 10],\n",
    "    'min_samples_leaf': [1, 2, 4]\n",
    "}"
   ]
  },
  {
   "cell_type": "markdown",
   "metadata": {},
   "source": [
    "**Hyperparameter Tuning with GridSearchCV**"
   ]
  },
  {
   "cell_type": "code",
   "execution_count": null,
   "metadata": {},
   "outputs": [],
   "source": [
    "# Initialize the Random Forest classifier\n",
    "rf = RandomForestClassifier(random_state=1)\n",
    "\n",
    "# Initialize the GridSearchCV object\n",
    "grid_search = GridSearchCV(estimator=rf, param_grid=param_grid, cv=3, n_jobs=-1, verbose=2)\n",
    "\n",
    "# Fit the grid search to the data\n",
    "grid_search.fit(X_train_scaled, y_train)"
   ]
  },
  {
   "cell_type": "markdown",
   "metadata": {},
   "source": [
    "**Best Parameters Found:**\n",
    "- `max_depth`: 8\n",
    "- `max_features`: 'sqrt'\n",
    "- `min_samples_leaf`: 1\n",
    "- `min_samples_split`: 2\n",
    "- `n_estimators`: 200"
   ]
  },
  {
   "cell_type": "markdown",
   "metadata": {},
   "source": [
    "**Using the Optimized Random Forest Model**"
   ]
  },
  {
   "cell_type": "code",
   "execution_count": 35,
   "metadata": {},
   "outputs": [
    {
     "name": "stdout",
     "output_type": "stream",
     "text": [
      "Cross-Validation Scores: [0.57 0.58 0.6  0.58 0.58]\n",
      "Mean CV Accuracy: 0.58\n"
     ]
    }
   ],
   "source": [
    "# Initialize the Random Forest classifier with the best parameters\n",
    "rf_optimized = RandomForestClassifier(\n",
    "    max_depth=8, \n",
    "    max_features='sqrt', \n",
    "    min_samples_leaf=1, \n",
    "    min_samples_split=2, \n",
    "    n_estimators=200, \n",
    "    random_state=1\n",
    ")\n",
    "\n",
    "# Fit the model to the training data\n",
    "rf_optimized.fit(X_train_scaled, y_train)\n",
    "\n",
    "# Predict on the test data\n",
    "y_pred_test = rf_optimized.predict(X_test_scaled)\n",
    "\n",
    "# Perform cross-validation with the best model\n",
    "cv_accuracy = cross_val_score(rf_optimized, X_train_scaled, y_train, cv=5)\n",
    "\n",
    "# Round the cross-validation scores to two decimal places\n",
    "rounded_cv_accuracy = np.round(cv_accuracy, 2)\n",
    "\n",
    "# Print the rounded cross-validation scores\n",
    "print(\"Cross-Validation Scores:\", rounded_cv_accuracy)\n",
    "print(\"Mean CV Accuracy:\", round(cv_accuracy.mean(), 2))"
   ]
  },
  {
   "cell_type": "markdown",
   "metadata": {},
   "source": [
    "### Explanation for Similarity in Optimized and Non-Optimized Models### \n",
    "The similarity in performance between the optimized and non-optimized Random Forest models can be attributed to several factors:\n",
    "\n",
    "1. Default Hyperparameters: The Random Forest algorithm often comes with sensible default hyperparameter values that are suitable for a wide range of datasets. In our case, these defaults were already effective.\n",
    "2. Dataset Complexity: The dataset we used may not have been complex enough to significantly benefit from hyperparameter optimization. When datasets are relatively simple or the default hyperparameters are already well-suited, fine-tuning may not lead to substantial improvements.\n",
    "3. Limited Hyperparameter Space: The hyperparameter grid we defined for optimization might not have explored a wide enough range of hyperparameters to yield noticeable differences. Expanding the hyperparameter search space might reveal more opportunities for improvement.\n",
    "4. Data Size: The size of the dataset can also impact the effectiveness of hyperparameter tuning. In cases with smaller datasets, there may be limited room for optimization.\n",
    "\n",
    "In summary, while hyperparameter optimization is a valuable technique for improving model performance, its impact depends on the specific dataset and problem. In this project, the Random Forest model performed well with default settings, leading to a situation where fine-tuning did not result in a substantial difference in accuracy. Nonetheless, it's essential to consider hyperparameter optimization as a standard practice in machine learning projects to ensure the best model performance, especially for more complex datasets.\n",
    "\n",
    "--- "
   ]
  },
  {
   "cell_type": "markdown",
   "metadata": {},
   "source": [
    "### Conclusion\n",
    "\n",
    "In this project, we embarked on a journey to predict credit card payment defaults using various supervised machine learning algorithms. After data cleaning, feature transformation, and dataset splitting, we evaluated several classifiers, including:\n",
    "\n",
    "- Perceptron\n",
    "- Logistic Regression\n",
    "- Decision Tree\n",
    "- Random Forest\n",
    "- Support Vector Machine\n",
    "\n",
    "Using cross-validation, we assessed the performance of these models.\n",
    "\n",
    "Our findings revealed that the Random Forest model achieved the highest cross-validation accuracy of approximately 58%. Recognizing this, we decided to further fine-tune the Random Forest model through hyperparameter optimization. Surprisingly, the optimized model took different hyperparameters compared to the default Random Forest model. This suggests that there was room for improvement through hyperparameter tuning, even though the cross-validation accuracy remained at approximately 58%.\n",
    "\n",
    "The similarity in cross-validation accuracy between the optimized and non-optimized models suggests that the default settings of the Random Forest algorithm were already well-suited for our dataset. This finding underscores the importance of both choosing appropriate algorithms and considering the need for hyperparameter optimization in machine learning projects.\n",
    "\n",
    "In summary, while hyperparameter optimization didn't significantly alter the model's accuracy in this case, it serves as a valuable technique for improving performance when default settings are not as effective. This project provides insights into credit default prediction, showcasing the Random Forest algorithm as a strong candidate for such tasks.\n",
    "\n",
    "--- "
   ]
  }
 ],
 "metadata": {
  "kernelspec": {
   "display_name": "Python 3 (ipykernel)",
   "language": "python",
   "name": "python3"
  },
  "language_info": {
   "codemirror_mode": {
    "name": "ipython",
    "version": 3
   },
   "file_extension": ".py",
   "mimetype": "text/x-python",
   "name": "python",
   "nbconvert_exporter": "python",
   "pygments_lexer": "ipython3",
   "version": "3.12.0"
  }
 },
 "nbformat": 4,
 "nbformat_minor": 4
}
